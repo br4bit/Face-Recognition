{
  "nbformat": 4,
  "nbformat_minor": 0,
  "metadata": {
    "colab": {
      "name": "Face Recognition.ipynb",
      "version": "0.3.2",
      "provenance": [],
      "collapsed_sections": [],
      "include_colab_link": true
    },
    "kernelspec": {
      "name": "python3",
      "display_name": "Python 3"
    },
    "accelerator": "TPU"
  },
  "cells": [
    {
      "cell_type": "markdown",
      "metadata": {
        "id": "view-in-github",
        "colab_type": "text"
      },
      "source": [
        "<a href=\"https://colab.research.google.com/github/br4bit/Face-Recognition/blob/master/Face_Recognition.ipynb\" target=\"_parent\"><img src=\"https://colab.research.google.com/assets/colab-badge.svg\" alt=\"Open In Colab\"/></a>"
      ]
    },
    {
      "metadata": {
        "id": "4FkDObMlHe1r",
        "colab_type": "code",
        "colab": {}
      },
      "cell_type": "code",
      "source": [
        "from google.colab import drive\n",
        "drive.mount('/content/drive')\n",
        "import sys\n",
        "sys.path.insert(0, './drive/My Drive/DL/Face Recognition')\n",
        "from final_model import *"
      ],
      "execution_count": 0,
      "outputs": []
    },
    {
      "metadata": {
        "id": "X5wgSaHp3Ld0",
        "colab_type": "code",
        "colab": {}
      },
      "cell_type": "code",
      "source": [
        "FRmodel = FRModel.build()"
      ],
      "execution_count": 0,
      "outputs": []
    },
    {
      "metadata": {
        "id": "6atmmG8aDJ8u",
        "colab_type": "code",
        "colab": {}
      },
      "cell_type": "code",
      "source": [
        "#Load all images in a database with new size (96,96)\n",
        "#The images must be in a folder with User name for mapping in database as Name->Image vector encoding (128-d)\n",
        "print(\"Total Params:\", FRmodel.count_params())\n",
        "path='./drive/My Drive/DL/Face Recognition/images/'\n",
        "database={} #Use Dictionary with multiple values for each key\n",
        "database = load_images(path,database,FRmodel)"
      ],
      "execution_count": 0,
      "outputs": []
    },
    {
      "metadata": {
        "id": "NsFojBFiXr70",
        "colab_type": "code",
        "colab": {}
      },
      "cell_type": "code",
      "source": [
        "FRModel.print_database_items(database)"
      ],
      "execution_count": 0,
      "outputs": []
    },
    {
      "metadata": {
        "id": "8q68xjJ1HBfB",
        "colab_type": "code",
        "colab": {}
      },
      "cell_type": "code",
      "source": [
        "from IPython.display import Image\n",
        "try:\n",
        "  filename = take_photo('./drive/My Drive/DL/Face Recognition/images/camera.jpg',0.8)\n",
        "  print('Saved to {}'.format(filename))\n",
        "  \n",
        "  # Show the image which was just taken.\n",
        "  display(Image(filename))\n",
        "except Exception as err:\n",
        "  # Errors will be thrown if the user does not have a webcam or if they do not\n",
        "  # grant the page permission to access it.\n",
        "  print(str(err))"
      ],
      "execution_count": 0,
      "outputs": []
    },
    {
      "metadata": {
        "scrolled": false,
        "id": "E-0wZz_dDJ9h",
        "colab_type": "code",
        "colab": {}
      },
      "cell_type": "code",
      "source": [
        "captured_image = \"camera.jpg\"\n",
        "fname = path + captured_image\n",
        "\n",
        "captured_image = FRModel.preprocess_image(fname)\n",
        "if not captured_image is False:\n",
        "  plt.imshow(captured_image)\n",
        "  plt.grid(False)\n",
        "  print(who_is_it(fname, database, FRmodel))\n",
        "else:\n",
        "  print(\"No face detected, try new one\")"
      ],
      "execution_count": 0,
      "outputs": []
    }
  ]
}